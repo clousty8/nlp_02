{
 "cells": [
  {
   "cell_type": "markdown",
   "metadata": {
    "id": "n60NR2om0Hua"
   },
   "source": [
    "# Lemmatization\n",
    "\n",
    "Here we will use [spaCy](https://spacy.io/) to see the effect of lemmatization words."
   ]
  },
  {
   "cell_type": "code",
   "execution_count": null,
   "metadata": {
    "scrolled": true,
    "tags": []
   },
   "outputs": [],
   "source": [
    "!python -m spacy download en_core_web_sm"
   ]
  },
  {
   "cell_type": "code",
   "execution_count": null,
   "metadata": {
    "id": "KMNqja7e0FRt"
   },
   "outputs": [],
   "source": [
    "import spacy\n",
    "\n",
    "# loading the small English model\n",
    "nlp = spacy.load(\"en_core_web_sm\")"
   ]
  },
  {
   "cell_type": "code",
   "execution_count": null,
   "metadata": {
    "colab": {
     "base_uri": "https://localhost:8080/",
     "height": 52
    },
    "id": "mXE-be9l0ey5",
    "outputId": "7b311ae2-a332-4bac-ec8c-aa6e44399c63"
   },
   "outputs": [],
   "source": [
    "text = \"At first, historical linguistics served as the cornerstone of comparative linguistics primarily as a tool for linguistic reconstruction.[5] Scholars were concerned chiefly with establishing language families and reconstructing prehistoric proto-languages, using the comparative method and internal reconstruction.\"\n",
    "text"
   ]
  },
  {
   "cell_type": "markdown",
   "metadata": {
    "id": "dIURXUIf0_1L"
   },
   "source": [
    "Let's lemmatize all token we can find."
   ]
  },
  {
   "cell_type": "code",
   "execution_count": null,
   "metadata": {
    "colab": {
     "base_uri": "https://localhost:8080/",
     "height": 52
    },
    "id": "5h3u27CL08BU",
    "outputId": "61742866-dc66-49e4-f4a4-a65f7fedf317"
   },
   "outputs": [],
   "source": [
    "lemmas = [token.lemma_ for token in nlp(text.lower())]\n",
    "\" \".join(lemmas)"
   ]
  },
  {
   "cell_type": "markdown",
   "metadata": {
    "id": "GCxFN9su1fLr"
   },
   "source": [
    "You can see that \"were\" was correctly lemmatized to \"be\".\n",
    "\n",
    "Note that the result is strongly affected by the quality of the tokenizer. For example `reconstruction.[5` was badly tokenized. You can add a 's' at the end of \"reconstruction\" and see that it's not lemmatized correctly.\n",
    "\n",
    "Another example with \"went\". "
   ]
  },
  {
   "cell_type": "code",
   "execution_count": null,
   "metadata": {
    "colab": {
     "base_uri": "https://localhost:8080/",
     "height": 35
    },
    "id": "_nHlR3WK1aNp",
    "outputId": "85c12bd1-50e6-44d6-c060-a5815beb794a"
   },
   "outputs": [],
   "source": [
    "import re\n",
    "\n",
    "re_word = re.compile(r\"^\\w+$\")\n",
    "text = \" I went to the cinema\"\n",
    "lemmas = [token.lemma_ for token in nlp(text.lower()) if re_word.match(token.text)]\n",
    "\" \".join(lemmas)"
   ]
  },
  {
   "cell_type": "markdown",
   "metadata": {},
   "source": [
    "## Speed\n",
    "\n",
    "Let's compare the speed and number of tokens generated using a lemmatizer."
   ]
  },
  {
   "cell_type": "code",
   "execution_count": null,
   "metadata": {},
   "outputs": [],
   "source": [
    "from torchtext.datasets import PennTreebank\n",
    "train, valid, test = PennTreebank()"
   ]
  },
  {
   "cell_type": "code",
   "execution_count": null,
   "metadata": {},
   "outputs": [],
   "source": [
    "from datetime import datetime\n",
    "\n",
    "nb_unique_token = set()\n",
    "nb_unique_lemma = set()\n",
    "t0 = datetime.now()\n",
    "for text in train:\n",
    "    for token in nlp(text):\n",
    "        if re_word.match(token.text):\n",
    "            nb_unique_token.add(token.text)\n",
    "            nb_unique_lemma.add(token.lemma_)\n",
    "processing_time = datetime.now() - t0"
   ]
  },
  {
   "cell_type": "code",
   "execution_count": null,
   "metadata": {},
   "outputs": [],
   "source": [
    "print(f\"nb unique token: {len(nb_unique_token)} vs nb unique lemma: {len(nb_unique_lemma)}. Processed in {processing_time}\")"
   ]
  },
  {
   "cell_type": "markdown",
   "metadata": {},
   "source": [
    "Ask yourself the following questions\n",
    "* Why is it much slower than stemming?\n",
    "* How come we have more unique lemmas than stems?"
   ]
  },
  {
   "cell_type": "markdown",
   "metadata": {},
   "source": [
    "## Going further\n",
    "\n",
    "spaCy provides [models](https://spacy.io/usage/models#languages) of different size for 18 languages (and two multilingual models). Some of these models support operations such as part-of-speech tagging and named entity recognition. You can learn more about the library following their [interactive tutorial](https://course.spacy.io/en/) (though the tutorial uses spaCy 2, and not 3 yet)."
   ]
  },
  {
   "cell_type": "code",
   "execution_count": null,
   "metadata": {},
   "outputs": [],
   "source": []
  }
 ],
 "metadata": {
  "colab": {
   "collapsed_sections": [],
   "name": "lemmatization.ipynb",
   "provenance": []
  },
  "kernelspec": {
   "display_name": "Python 3 (ipykernel)",
   "language": "python",
   "name": "python3"
  },
  "language_info": {
   "codemirror_mode": {
    "name": "ipython",
    "version": 3
   },
   "file_extension": ".py",
   "mimetype": "text/x-python",
   "name": "python",
   "nbconvert_exporter": "python",
   "pygments_lexer": "ipython3",
   "version": "3.10.4"
  }
 },
 "nbformat": 4,
 "nbformat_minor": 4
}
